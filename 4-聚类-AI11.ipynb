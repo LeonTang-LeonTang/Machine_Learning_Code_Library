{
 "cells": [
  {
   "cell_type": "code",
   "metadata": {
    "ExecuteTime": {
     "end_time": "2025-06-24T14:34:47.069588Z",
     "start_time": "2025-06-24T14:34:31.231631Z"
    }
   },
   "source": [
    "import pandas as pd\n",
    "import numpy as np\n",
    "import matplotlib.pyplot as plt\n",
    "import matplotlib.font_manager as font_manager\n",
    "import seaborn as sns\n",
    "\n",
    "# 设置中文显示\n",
    "font_path = ('/System/Library/Fonts/STHeiti Light.ttc')\n",
    "my_font = font_manager.FontProperties(fname=font_path)\n",
    "plt.rcParams['font.family'] = my_font.get_name()\n",
    "plt.rcParams['axes.unicode_minus'] = False\n",
    "\n",
    "# 读取数据文件\n",
    "orders = pd.read_csv('data/instacart/orders.csv')\n",
    "order_products = pd.read_csv('data/instacart/order_products__prior.csv')\n",
    "products = pd.read_csv('data/instacart/products.csv')\n",
    "aisles = pd.read_csv('data/instacart/aisles.csv')\n",
    "\n",
    "# 数据合并\n",
    "# 先合并订单和订单产品\n",
    "#inner: use intersection of keys from both frames, similar to a SQL inner join; preserve the order of the left keys.\n",
    "df = pd.merge(orders, order_products, on='order_id', how='inner')\n",
    "\n",
    "# 再合并产品信息\n",
    "df = pd.merge(df, products, on='product_id', how='inner')\n",
    "\n",
    "# 最后合并货架信息\n",
    "df = pd.merge(df, aisles, on='aisle_id', how='inner')\n",
    "\n",
    "# 显示合并后的数据前几行\n",
    "print(\"合并后的数据预览：\")\n",
    "\n",
    "\n",
    "# 显示数据基本信息\n",
    "print(\"\\n数据基本信息：\")\n",
    "print(df.info())\n",
    "df.head()"
   ],
   "outputs": [
    {
     "name": "stdout",
     "output_type": "stream",
     "text": [
      "合并后的数据预览：\n",
      "\n",
      "数据基本信息：\n",
      "<class 'pandas.core.frame.DataFrame'>\n",
      "RangeIndex: 32434489 entries, 0 to 32434488\n",
      "Data columns (total 14 columns):\n",
      " #   Column                  Dtype  \n",
      "---  ------                  -----  \n",
      " 0   order_id                int64  \n",
      " 1   user_id                 int64  \n",
      " 2   eval_set                object \n",
      " 3   order_number            int64  \n",
      " 4   order_dow               int64  \n",
      " 5   order_hour_of_day       int64  \n",
      " 6   days_since_prior_order  float64\n",
      " 7   product_id              int64  \n",
      " 8   add_to_cart_order       int64  \n",
      " 9   reordered               int64  \n",
      " 10  product_name            object \n",
      " 11  aisle_id                int64  \n",
      " 12  department_id           int64  \n",
      " 13  aisle                   object \n",
      "dtypes: float64(1), int64(10), object(3)\n",
      "memory usage: 3.4+ GB\n",
      "None\n"
     ]
    },
    {
     "data": {
      "text/plain": [
       "   order_id  user_id eval_set  order_number  order_dow  order_hour_of_day  \\\n",
       "0   2539329        1    prior             1          2                  8   \n",
       "1   2539329        1    prior             1          2                  8   \n",
       "2   2539329        1    prior             1          2                  8   \n",
       "3   2539329        1    prior             1          2                  8   \n",
       "4   2539329        1    prior             1          2                  8   \n",
       "\n",
       "   days_since_prior_order  product_id  add_to_cart_order  reordered  \\\n",
       "0                     NaN         196                  1          0   \n",
       "1                     NaN       14084                  2          0   \n",
       "2                     NaN       12427                  3          0   \n",
       "3                     NaN       26088                  4          0   \n",
       "4                     NaN       26405                  5          0   \n",
       "\n",
       "                              product_name  aisle_id  department_id  \\\n",
       "0                                     Soda        77              7   \n",
       "1  Organic Unsweetened Vanilla Almond Milk        91             16   \n",
       "2                      Original Beef Jerky        23             19   \n",
       "3               Aged White Cheddar Popcorn        23             19   \n",
       "4         XL Pick-A-Size Paper Towel Rolls        54             17   \n",
       "\n",
       "             aisle  \n",
       "0      soft drinks  \n",
       "1  soy lactosefree  \n",
       "2    popcorn jerky  \n",
       "3    popcorn jerky  \n",
       "4      paper goods  "
      ],
      "text/html": [
       "<div>\n",
       "<style scoped>\n",
       "    .dataframe tbody tr th:only-of-type {\n",
       "        vertical-align: middle;\n",
       "    }\n",
       "\n",
       "    .dataframe tbody tr th {\n",
       "        vertical-align: top;\n",
       "    }\n",
       "\n",
       "    .dataframe thead th {\n",
       "        text-align: right;\n",
       "    }\n",
       "</style>\n",
       "<table border=\"1\" class=\"dataframe\">\n",
       "  <thead>\n",
       "    <tr style=\"text-align: right;\">\n",
       "      <th></th>\n",
       "      <th>order_id</th>\n",
       "      <th>user_id</th>\n",
       "      <th>eval_set</th>\n",
       "      <th>order_number</th>\n",
       "      <th>order_dow</th>\n",
       "      <th>order_hour_of_day</th>\n",
       "      <th>days_since_prior_order</th>\n",
       "      <th>product_id</th>\n",
       "      <th>add_to_cart_order</th>\n",
       "      <th>reordered</th>\n",
       "      <th>product_name</th>\n",
       "      <th>aisle_id</th>\n",
       "      <th>department_id</th>\n",
       "      <th>aisle</th>\n",
       "    </tr>\n",
       "  </thead>\n",
       "  <tbody>\n",
       "    <tr>\n",
       "      <th>0</th>\n",
       "      <td>2539329</td>\n",
       "      <td>1</td>\n",
       "      <td>prior</td>\n",
       "      <td>1</td>\n",
       "      <td>2</td>\n",
       "      <td>8</td>\n",
       "      <td>NaN</td>\n",
       "      <td>196</td>\n",
       "      <td>1</td>\n",
       "      <td>0</td>\n",
       "      <td>Soda</td>\n",
       "      <td>77</td>\n",
       "      <td>7</td>\n",
       "      <td>soft drinks</td>\n",
       "    </tr>\n",
       "    <tr>\n",
       "      <th>1</th>\n",
       "      <td>2539329</td>\n",
       "      <td>1</td>\n",
       "      <td>prior</td>\n",
       "      <td>1</td>\n",
       "      <td>2</td>\n",
       "      <td>8</td>\n",
       "      <td>NaN</td>\n",
       "      <td>14084</td>\n",
       "      <td>2</td>\n",
       "      <td>0</td>\n",
       "      <td>Organic Unsweetened Vanilla Almond Milk</td>\n",
       "      <td>91</td>\n",
       "      <td>16</td>\n",
       "      <td>soy lactosefree</td>\n",
       "    </tr>\n",
       "    <tr>\n",
       "      <th>2</th>\n",
       "      <td>2539329</td>\n",
       "      <td>1</td>\n",
       "      <td>prior</td>\n",
       "      <td>1</td>\n",
       "      <td>2</td>\n",
       "      <td>8</td>\n",
       "      <td>NaN</td>\n",
       "      <td>12427</td>\n",
       "      <td>3</td>\n",
       "      <td>0</td>\n",
       "      <td>Original Beef Jerky</td>\n",
       "      <td>23</td>\n",
       "      <td>19</td>\n",
       "      <td>popcorn jerky</td>\n",
       "    </tr>\n",
       "    <tr>\n",
       "      <th>3</th>\n",
       "      <td>2539329</td>\n",
       "      <td>1</td>\n",
       "      <td>prior</td>\n",
       "      <td>1</td>\n",
       "      <td>2</td>\n",
       "      <td>8</td>\n",
       "      <td>NaN</td>\n",
       "      <td>26088</td>\n",
       "      <td>4</td>\n",
       "      <td>0</td>\n",
       "      <td>Aged White Cheddar Popcorn</td>\n",
       "      <td>23</td>\n",
       "      <td>19</td>\n",
       "      <td>popcorn jerky</td>\n",
       "    </tr>\n",
       "    <tr>\n",
       "      <th>4</th>\n",
       "      <td>2539329</td>\n",
       "      <td>1</td>\n",
       "      <td>prior</td>\n",
       "      <td>1</td>\n",
       "      <td>2</td>\n",
       "      <td>8</td>\n",
       "      <td>NaN</td>\n",
       "      <td>26405</td>\n",
       "      <td>5</td>\n",
       "      <td>0</td>\n",
       "      <td>XL Pick-A-Size Paper Towel Rolls</td>\n",
       "      <td>54</td>\n",
       "      <td>17</td>\n",
       "      <td>paper goods</td>\n",
       "    </tr>\n",
       "  </tbody>\n",
       "</table>\n",
       "</div>"
      ]
     },
     "execution_count": 46,
     "metadata": {},
     "output_type": "execute_result"
    }
   ],
   "execution_count": 46
  },
  {
   "metadata": {
    "ExecuteTime": {
     "end_time": "2025-06-24T14:34:48.719414Z",
     "start_time": "2025-06-24T14:34:47.071119Z"
    }
   },
   "cell_type": "code",
   "source": "df.isnull().sum()",
   "outputs": [
    {
     "data": {
      "text/plain": [
       "order_id                        0\n",
       "user_id                         0\n",
       "eval_set                        0\n",
       "order_number                    0\n",
       "order_dow                       0\n",
       "order_hour_of_day               0\n",
       "days_since_prior_order    2078068\n",
       "product_id                      0\n",
       "add_to_cart_order               0\n",
       "reordered                       0\n",
       "product_name                    0\n",
       "aisle_id                        0\n",
       "department_id                   0\n",
       "aisle                           0\n",
       "dtype: int64"
      ]
     },
     "execution_count": 47,
     "metadata": {},
     "output_type": "execute_result"
    }
   ],
   "execution_count": 47
  },
  {
   "metadata": {
    "ExecuteTime": {
     "end_time": "2025-06-24T14:34:50.240690Z",
     "start_time": "2025-06-24T14:34:48.720050Z"
    }
   },
   "cell_type": "code",
   "source": "df.isnull().sum()/df.shape[0]  #数据缺失率，没有缺失值",
   "outputs": [
    {
     "data": {
      "text/plain": [
       "order_id                  0.00000\n",
       "user_id                   0.00000\n",
       "eval_set                  0.00000\n",
       "order_number              0.00000\n",
       "order_dow                 0.00000\n",
       "order_hour_of_day         0.00000\n",
       "days_since_prior_order    0.06407\n",
       "product_id                0.00000\n",
       "add_to_cart_order         0.00000\n",
       "reordered                 0.00000\n",
       "product_name              0.00000\n",
       "aisle_id                  0.00000\n",
       "department_id             0.00000\n",
       "aisle                     0.00000\n",
       "dtype: float64"
      ]
     },
     "execution_count": 48,
     "metadata": {},
     "output_type": "execute_result"
    }
   ],
   "execution_count": 48
  },
  {
   "cell_type": "code",
   "metadata": {
    "ExecuteTime": {
     "end_time": "2025-06-24T14:34:52.379030Z",
     "start_time": "2025-06-24T14:34:50.241879Z"
    }
   },
   "source": [
    "# 创建用户和货架类别的交叉表\n",
    "# 首先计算每个用户对每个货架的购买次数\n",
    "#.reset_index() is a Pandas method used to convert the current index of a DataFrame into regular columns, and reset the index to the default integer index (0, 1, 2, …).\n",
    "#(name='count') “Turn the result into a DataFrame and name the new column 'count'.”When you use methods like .size() or .value_counts(), they return a Pandas Series (not a DataFrame). By default, this Series has no column name.\n",
    "user_aisle = df.groupby(['user_id', 'aisle_id']).size().reset_index(name='count')\n",
    "\n",
    "# 将数据透视为交叉表格式\n",
    "user_aisle_pivot = user_aisle.pivot_table(\n",
    "    index='user_id',\n",
    "    columns='aisle_id',\n",
    "    values='count',\n",
    "    fill_value=0\n",
    ")\n",
    "\n",
    "# 显示交叉表的形状和前几行\n",
    "print(f\"交叉表形状: {user_aisle_pivot.shape}\")\n",
    "print(\"\\n交叉表前5行:\")\n",
    "# notice aisle_id is sorted in ascending order and includes all aisle_id in the dataset.(for those not in the dataset, the count is 0)\n",
    "user_aisle_pivot.head() #数据比较稀疏\n"
   ],
   "outputs": [
    {
     "name": "stdout",
     "output_type": "stream",
     "text": [
      "交叉表形状: (206209, 134)\n",
      "\n",
      "交叉表前5行:\n"
     ]
    },
    {
     "data": {
      "text/plain": [
       "aisle_id  1    2    3    4    5    6    7    8    9    10   ...  125  126  \\\n",
       "user_id                                                     ...             \n",
       "1         0.0  0.0  0.0  0.0  0.0  0.0  0.0  0.0  0.0  0.0  ...  0.0  0.0   \n",
       "2         1.0  0.0  6.0  0.0  0.0  0.0  0.0  0.0  0.0  0.0  ...  0.0  0.0   \n",
       "3         0.0  0.0  0.0  4.0  0.0  0.0  0.0  0.0  0.0  0.0  ...  0.0  0.0   \n",
       "4         0.0  0.0  0.0  0.0  0.0  0.0  0.0  0.0  0.0  0.0  ...  0.0  0.0   \n",
       "5         0.0  0.0  0.0  0.0  0.0  0.0  0.0  0.0  0.0  0.0  ...  0.0  0.0   \n",
       "\n",
       "aisle_id  127  128  129  130  131  132  133  134  \n",
       "user_id                                           \n",
       "1         0.0  0.0  0.0  0.0  0.0  0.0  0.0  0.0  \n",
       "2         0.0  0.0  0.0  0.0  0.0  0.0  0.0  0.0  \n",
       "3         0.0  0.0  0.0  0.0  0.0  0.0  0.0  0.0  \n",
       "4         0.0  1.0  0.0  0.0  0.0  0.0  0.0  1.0  \n",
       "5         0.0  0.0  0.0  0.0  0.0  0.0  0.0  0.0  \n",
       "\n",
       "[5 rows x 134 columns]"
      ],
      "text/html": [
       "<div>\n",
       "<style scoped>\n",
       "    .dataframe tbody tr th:only-of-type {\n",
       "        vertical-align: middle;\n",
       "    }\n",
       "\n",
       "    .dataframe tbody tr th {\n",
       "        vertical-align: top;\n",
       "    }\n",
       "\n",
       "    .dataframe thead th {\n",
       "        text-align: right;\n",
       "    }\n",
       "</style>\n",
       "<table border=\"1\" class=\"dataframe\">\n",
       "  <thead>\n",
       "    <tr style=\"text-align: right;\">\n",
       "      <th>aisle_id</th>\n",
       "      <th>1</th>\n",
       "      <th>2</th>\n",
       "      <th>3</th>\n",
       "      <th>4</th>\n",
       "      <th>5</th>\n",
       "      <th>6</th>\n",
       "      <th>7</th>\n",
       "      <th>8</th>\n",
       "      <th>9</th>\n",
       "      <th>10</th>\n",
       "      <th>...</th>\n",
       "      <th>125</th>\n",
       "      <th>126</th>\n",
       "      <th>127</th>\n",
       "      <th>128</th>\n",
       "      <th>129</th>\n",
       "      <th>130</th>\n",
       "      <th>131</th>\n",
       "      <th>132</th>\n",
       "      <th>133</th>\n",
       "      <th>134</th>\n",
       "    </tr>\n",
       "    <tr>\n",
       "      <th>user_id</th>\n",
       "      <th></th>\n",
       "      <th></th>\n",
       "      <th></th>\n",
       "      <th></th>\n",
       "      <th></th>\n",
       "      <th></th>\n",
       "      <th></th>\n",
       "      <th></th>\n",
       "      <th></th>\n",
       "      <th></th>\n",
       "      <th></th>\n",
       "      <th></th>\n",
       "      <th></th>\n",
       "      <th></th>\n",
       "      <th></th>\n",
       "      <th></th>\n",
       "      <th></th>\n",
       "      <th></th>\n",
       "      <th></th>\n",
       "      <th></th>\n",
       "      <th></th>\n",
       "    </tr>\n",
       "  </thead>\n",
       "  <tbody>\n",
       "    <tr>\n",
       "      <th>1</th>\n",
       "      <td>0.0</td>\n",
       "      <td>0.0</td>\n",
       "      <td>0.0</td>\n",
       "      <td>0.0</td>\n",
       "      <td>0.0</td>\n",
       "      <td>0.0</td>\n",
       "      <td>0.0</td>\n",
       "      <td>0.0</td>\n",
       "      <td>0.0</td>\n",
       "      <td>0.0</td>\n",
       "      <td>...</td>\n",
       "      <td>0.0</td>\n",
       "      <td>0.0</td>\n",
       "      <td>0.0</td>\n",
       "      <td>0.0</td>\n",
       "      <td>0.0</td>\n",
       "      <td>0.0</td>\n",
       "      <td>0.0</td>\n",
       "      <td>0.0</td>\n",
       "      <td>0.0</td>\n",
       "      <td>0.0</td>\n",
       "    </tr>\n",
       "    <tr>\n",
       "      <th>2</th>\n",
       "      <td>1.0</td>\n",
       "      <td>0.0</td>\n",
       "      <td>6.0</td>\n",
       "      <td>0.0</td>\n",
       "      <td>0.0</td>\n",
       "      <td>0.0</td>\n",
       "      <td>0.0</td>\n",
       "      <td>0.0</td>\n",
       "      <td>0.0</td>\n",
       "      <td>0.0</td>\n",
       "      <td>...</td>\n",
       "      <td>0.0</td>\n",
       "      <td>0.0</td>\n",
       "      <td>0.0</td>\n",
       "      <td>0.0</td>\n",
       "      <td>0.0</td>\n",
       "      <td>0.0</td>\n",
       "      <td>0.0</td>\n",
       "      <td>0.0</td>\n",
       "      <td>0.0</td>\n",
       "      <td>0.0</td>\n",
       "    </tr>\n",
       "    <tr>\n",
       "      <th>3</th>\n",
       "      <td>0.0</td>\n",
       "      <td>0.0</td>\n",
       "      <td>0.0</td>\n",
       "      <td>4.0</td>\n",
       "      <td>0.0</td>\n",
       "      <td>0.0</td>\n",
       "      <td>0.0</td>\n",
       "      <td>0.0</td>\n",
       "      <td>0.0</td>\n",
       "      <td>0.0</td>\n",
       "      <td>...</td>\n",
       "      <td>0.0</td>\n",
       "      <td>0.0</td>\n",
       "      <td>0.0</td>\n",
       "      <td>0.0</td>\n",
       "      <td>0.0</td>\n",
       "      <td>0.0</td>\n",
       "      <td>0.0</td>\n",
       "      <td>0.0</td>\n",
       "      <td>0.0</td>\n",
       "      <td>0.0</td>\n",
       "    </tr>\n",
       "    <tr>\n",
       "      <th>4</th>\n",
       "      <td>0.0</td>\n",
       "      <td>0.0</td>\n",
       "      <td>0.0</td>\n",
       "      <td>0.0</td>\n",
       "      <td>0.0</td>\n",
       "      <td>0.0</td>\n",
       "      <td>0.0</td>\n",
       "      <td>0.0</td>\n",
       "      <td>0.0</td>\n",
       "      <td>0.0</td>\n",
       "      <td>...</td>\n",
       "      <td>0.0</td>\n",
       "      <td>0.0</td>\n",
       "      <td>0.0</td>\n",
       "      <td>1.0</td>\n",
       "      <td>0.0</td>\n",
       "      <td>0.0</td>\n",
       "      <td>0.0</td>\n",
       "      <td>0.0</td>\n",
       "      <td>0.0</td>\n",
       "      <td>1.0</td>\n",
       "    </tr>\n",
       "    <tr>\n",
       "      <th>5</th>\n",
       "      <td>0.0</td>\n",
       "      <td>0.0</td>\n",
       "      <td>0.0</td>\n",
       "      <td>0.0</td>\n",
       "      <td>0.0</td>\n",
       "      <td>0.0</td>\n",
       "      <td>0.0</td>\n",
       "      <td>0.0</td>\n",
       "      <td>0.0</td>\n",
       "      <td>0.0</td>\n",
       "      <td>...</td>\n",
       "      <td>0.0</td>\n",
       "      <td>0.0</td>\n",
       "      <td>0.0</td>\n",
       "      <td>0.0</td>\n",
       "      <td>0.0</td>\n",
       "      <td>0.0</td>\n",
       "      <td>0.0</td>\n",
       "      <td>0.0</td>\n",
       "      <td>0.0</td>\n",
       "      <td>0.0</td>\n",
       "    </tr>\n",
       "  </tbody>\n",
       "</table>\n",
       "<p>5 rows × 134 columns</p>\n",
       "</div>"
      ]
     },
     "execution_count": 49,
     "metadata": {},
     "output_type": "execute_result"
    }
   ],
   "execution_count": 49
  },
  {
   "metadata": {
    "ExecuteTime": {
     "end_time": "2025-06-24T14:34:53.892493Z",
     "start_time": "2025-06-24T14:34:52.379643Z"
    }
   },
   "cell_type": "code",
   "source": "df.groupby(['user_id', 'aisle_id']).size().reset_index(name='count')",
   "outputs": [
    {
     "data": {
      "text/plain": [
       "         user_id  aisle_id  count\n",
       "0              1        21      8\n",
       "1              1        23     12\n",
       "2              1        24      5\n",
       "3              1        45      1\n",
       "4              1        53      2\n",
       "...          ...       ...    ...\n",
       "5729244   206209       120      3\n",
       "5729245   206209       121      6\n",
       "5729246   206209       123      5\n",
       "5729247   206209       130      3\n",
       "5729248   206209       131      1\n",
       "\n",
       "[5729249 rows x 3 columns]"
      ],
      "text/html": [
       "<div>\n",
       "<style scoped>\n",
       "    .dataframe tbody tr th:only-of-type {\n",
       "        vertical-align: middle;\n",
       "    }\n",
       "\n",
       "    .dataframe tbody tr th {\n",
       "        vertical-align: top;\n",
       "    }\n",
       "\n",
       "    .dataframe thead th {\n",
       "        text-align: right;\n",
       "    }\n",
       "</style>\n",
       "<table border=\"1\" class=\"dataframe\">\n",
       "  <thead>\n",
       "    <tr style=\"text-align: right;\">\n",
       "      <th></th>\n",
       "      <th>user_id</th>\n",
       "      <th>aisle_id</th>\n",
       "      <th>count</th>\n",
       "    </tr>\n",
       "  </thead>\n",
       "  <tbody>\n",
       "    <tr>\n",
       "      <th>0</th>\n",
       "      <td>1</td>\n",
       "      <td>21</td>\n",
       "      <td>8</td>\n",
       "    </tr>\n",
       "    <tr>\n",
       "      <th>1</th>\n",
       "      <td>1</td>\n",
       "      <td>23</td>\n",
       "      <td>12</td>\n",
       "    </tr>\n",
       "    <tr>\n",
       "      <th>2</th>\n",
       "      <td>1</td>\n",
       "      <td>24</td>\n",
       "      <td>5</td>\n",
       "    </tr>\n",
       "    <tr>\n",
       "      <th>3</th>\n",
       "      <td>1</td>\n",
       "      <td>45</td>\n",
       "      <td>1</td>\n",
       "    </tr>\n",
       "    <tr>\n",
       "      <th>4</th>\n",
       "      <td>1</td>\n",
       "      <td>53</td>\n",
       "      <td>2</td>\n",
       "    </tr>\n",
       "    <tr>\n",
       "      <th>...</th>\n",
       "      <td>...</td>\n",
       "      <td>...</td>\n",
       "      <td>...</td>\n",
       "    </tr>\n",
       "    <tr>\n",
       "      <th>5729244</th>\n",
       "      <td>206209</td>\n",
       "      <td>120</td>\n",
       "      <td>3</td>\n",
       "    </tr>\n",
       "    <tr>\n",
       "      <th>5729245</th>\n",
       "      <td>206209</td>\n",
       "      <td>121</td>\n",
       "      <td>6</td>\n",
       "    </tr>\n",
       "    <tr>\n",
       "      <th>5729246</th>\n",
       "      <td>206209</td>\n",
       "      <td>123</td>\n",
       "      <td>5</td>\n",
       "    </tr>\n",
       "    <tr>\n",
       "      <th>5729247</th>\n",
       "      <td>206209</td>\n",
       "      <td>130</td>\n",
       "      <td>3</td>\n",
       "    </tr>\n",
       "    <tr>\n",
       "      <th>5729248</th>\n",
       "      <td>206209</td>\n",
       "      <td>131</td>\n",
       "      <td>1</td>\n",
       "    </tr>\n",
       "  </tbody>\n",
       "</table>\n",
       "<p>5729249 rows × 3 columns</p>\n",
       "</div>"
      ]
     },
     "execution_count": 50,
     "metadata": {},
     "output_type": "execute_result"
    }
   ],
   "execution_count": 50
  },
  {
   "cell_type": "code",
   "metadata": {
    "ExecuteTime": {
     "end_time": "2025-06-24T14:34:53.894807Z",
     "start_time": "2025-06-24T14:34:53.893234Z"
    }
   },
   "source": [
    "del df"
   ],
   "outputs": [],
   "execution_count": 51
  },
  {
   "cell_type": "code",
   "metadata": {
    "ExecuteTime": {
     "end_time": "2025-06-24T14:34:54.122878Z",
     "start_time": "2025-06-24T14:34:53.895318Z"
    }
   },
   "source": [
    "# 使用PCA对用户-货架交叉表进行降维\n",
    "from sklearn.decomposition import PCA\n",
    "from sklearn.cluster import KMeans\n",
    "from sklearn.preprocessing import StandardScaler\n",
    "from sklearn.metrics import silhouette_score\n",
    "import matplotlib.pyplot as plt\n",
    "\n",
    "\n",
    "# 应用PCA降维\n",
    "print(f\"PCA降维前的形状: {user_aisle_pivot.shape}\")\n",
    "# n_components=0.9: Find the smallest number of principal components (new features) such that 90% of the total variance in the data is preserved\n",
    "pca = PCA(n_components=0.9) \n",
    "user_aisle_pca = pca.fit_transform(user_aisle_pivot)\n",
    "\n",
    "print(f\"PCA降维后的形状: {user_aisle_pca.shape}\")\n",
    "print(f\"保留的方差比例: {pca.explained_variance_ratio_.sum():.4f}\")\n",
    "print(f\"保留的特征数量: {pca.n_components_}\")\n"
   ],
   "outputs": [
    {
     "name": "stdout",
     "output_type": "stream",
     "text": [
      "PCA降维前的形状: (206209, 134)\n",
      "PCA降维后的形状: (206209, 27)\n",
      "保留的方差比例: 0.9015\n",
      "保留的特征数量: 27\n"
     ]
    }
   ],
   "execution_count": 52
  },
  {
   "metadata": {
    "ExecuteTime": {
     "end_time": "2025-06-24T14:34:54.134794Z",
     "start_time": "2025-06-24T14:34:54.129568Z"
    }
   },
   "cell_type": "code",
   "source": [
    "# after pca , new columns' values are not the same features', but instead reorganized axes based on the directions of highest variance in the data.\n",
    "user_aisle_pca"
   ],
   "outputs": [
    {
     "data": {
      "text/plain": [
       "array([[-2.42156587e+01, -2.42942720e+00, -2.46636975e+00, ...,\n",
       "         6.86800336e-01,  1.69439402e+00, -2.34323022e+00],\n",
       "       [ 6.46320806e+00, -3.67511165e+01,  8.38255336e+00, ...,\n",
       "         4.12121252e+00,  2.44689740e+00, -4.28348478e+00],\n",
       "       [-7.99030162e+00, -2.40438257e+00, -1.10300641e+01, ...,\n",
       "         1.77534453e+00, -4.44194030e-01,  7.86665571e-01],\n",
       "       ...,\n",
       "       [ 8.61143331e+00, -7.70129866e+00,  7.95240226e+00, ...,\n",
       "        -2.74252456e+00,  1.07112531e+00, -6.31925661e-02],\n",
       "       [ 8.40862199e+01, -2.04187340e+01,  8.05410372e+00, ...,\n",
       "         7.27554259e-01,  3.51339470e+00, -1.79079914e+01],\n",
       "       [-1.39534562e+01, -6.64621821e+00, -5.23030367e+00, ...,\n",
       "         8.25329076e-01,  1.38230701e+00, -2.41942061e+00]])"
      ]
     },
     "execution_count": 53,
     "metadata": {},
     "output_type": "execute_result"
    }
   ],
   "execution_count": 53
  },
  {
   "cell_type": "code",
   "metadata": {
    "ExecuteTime": {
     "end_time": "2025-06-24T14:43:50.906125Z",
     "start_time": "2025-06-24T14:39:00.043787Z"
    }
   },
   "source": [
    "# 使用K-means聚类，分为3类 \n",
    "kmeans = KMeans(n_clusters=3)\n",
    "# fit Returns:Fitted estimator\n",
    "clusters = kmeans.fit(user_aisle_pca)\n",
    "# predict: return Index of the cluster each sample belongs to.\n",
    "predict = kmeans.predict(user_aisle_pca)\n",
    "# 计算轮廓系数进行评估\n",
    "#after prediction, we need evaluate the quality of clustering using silhouette score.\n",
    "# silhouette_score Returns: Mean Silhouette Coefficient for all samples (which equals sum of all points' Silhouette Coefficient divided by number of points).\n",
    "silhouette_avg = silhouette_score(user_aisle_pca, predict)\n",
    "# the more Silhouette Coefficient near 1, the better the clustering result.(means different clusters are well separated)\n",
    "print(f\"K=3时的轮廓系数: {silhouette_avg:.4f}\")\n",
    "\n"
   ],
   "outputs": [
    {
     "name": "stdout",
     "output_type": "stream",
     "text": [
      "K=3时的轮廓系数: 0.5496\n"
     ]
    }
   ],
   "execution_count": 54
  },
  {
   "cell_type": "code",
   "metadata": {
    "ExecuteTime": {
     "end_time": "2025-06-24T14:47:17.932640Z",
     "start_time": "2025-06-24T14:47:17.906910Z"
    }
   },
   "source": [
    "colored = ['orange', 'green', 'blue']\n",
    "colr = [colored[i] for i in predict]"
   ],
   "outputs": [],
   "execution_count": 55
  },
  {
   "cell_type": "code",
   "metadata": {
    "ExecuteTime": {
     "end_time": "2025-06-24T14:47:19.510318Z",
     "start_time": "2025-06-24T14:47:19.500859Z"
    }
   },
   "source": [
    "#Find the unique elements of an array.\n",
    "np.unique(predict)"
   ],
   "outputs": [
    {
     "data": {
      "text/plain": [
       "array([0, 1, 2], dtype=int32)"
      ]
     },
     "execution_count": 56,
     "metadata": {},
     "output_type": "execute_result"
    }
   ],
   "execution_count": 56
  },
  {
   "metadata": {
    "ExecuteTime": {
     "end_time": "2025-06-25T06:34:09.915170Z",
     "start_time": "2025-06-25T06:34:09.910190Z"
    }
   },
   "cell_type": "code",
   "source": "user_aisle_pca",
   "outputs": [
    {
     "data": {
      "text/plain": [
       "array([[-2.42156587e+01, -2.42942720e+00, -2.46636975e+00, ...,\n",
       "         6.86800336e-01,  1.69439402e+00, -2.34323022e+00],\n",
       "       [ 6.46320806e+00, -3.67511165e+01,  8.38255336e+00, ...,\n",
       "         4.12121252e+00,  2.44689740e+00, -4.28348478e+00],\n",
       "       [-7.99030162e+00, -2.40438257e+00, -1.10300641e+01, ...,\n",
       "         1.77534453e+00, -4.44194030e-01,  7.86665571e-01],\n",
       "       ...,\n",
       "       [ 8.61143331e+00, -7.70129866e+00,  7.95240226e+00, ...,\n",
       "        -2.74252456e+00,  1.07112531e+00, -6.31925661e-02],\n",
       "       [ 8.40862199e+01, -2.04187340e+01,  8.05410372e+00, ...,\n",
       "         7.27554259e-01,  3.51339470e+00, -1.79079914e+01],\n",
       "       [-1.39534562e+01, -6.64621821e+00, -5.23030367e+00, ...,\n",
       "         8.25329076e-01,  1.38230701e+00, -2.41942061e+00]])"
      ]
     },
     "execution_count": 62,
     "metadata": {},
     "output_type": "execute_result"
    }
   ],
   "execution_count": 62
  },
  {
   "metadata": {
    "ExecuteTime": {
     "end_time": "2025-06-25T06:40:23.989558Z",
     "start_time": "2025-06-25T06:40:22.318750Z"
    }
   },
   "cell_type": "code",
   "source": [
    "# 可视化聚类结果（取前两个主成分）\n",
    "plt.figure(figsize=(10, 6))\n",
    "# cmap: colormap to use.cmap='viridis'\n",
    "\"\"\"\n",
    "\t'viridis' is a popular colormap in Matplotlib.\n",
    "\t•\tIt smoothly transitions from dark purple → blue → green → yellow.\n",
    "\t•\tIt’s perceptually uniform, meaning equal steps in data are perceived as equal steps in color.\n",
    "\"\"\"\n",
    "plt.scatter(user_aisle_pca[:, 0], user_aisle_pca[:, 1],c=colr,cmap='viridis', alpha=0.5)\n",
    "plt.title(\"用户购物习惯聚类结果\")\n",
    "plt.xlabel(\"主成分1\")\n",
    "plt.ylabel(\"主成分2\")\n",
    "plt.colorbar(label='聚类')\n",
    "plt.grid(True, linestyle='--', alpha=0.7)\n",
    "plt.show()\n"
   ],
   "outputs": [
    {
     "name": "stderr",
     "output_type": "stream",
     "text": [
      "/var/folders/nt/z2_pm9xj1bl1zz8q88mshrpc0000gn/T/ipykernel_4303/3972398583.py:4: UserWarning: No data for colormapping provided via 'c'. Parameters 'cmap' will be ignored\n",
      "  plt.scatter(user_aisle_pca[:, 0], user_aisle_pca[:, 1],c=colr,cmap='viridis', alpha=0.5)\n"
     ]
    },
    {
     "data": {
      "text/plain": [
       "<Figure size 1000x600 with 2 Axes>"
      ],
      "image/png": "[encoded data removed]"
     },
     "metadata": {},
     "output_type": "display_data"
    }
   ],
   "execution_count": 71
  },
  {
   "cell_type": "code",
   "execution_count": null,
   "metadata": {},
   "outputs": [],
   "source": [
    "# # 统计各类别的用户数量\n",
    "# cluster_counts = pd.Series(clusters).value_counts().sort_index()\n",
    "# print(\"各类别的用户数量:\")\n",
    "# print(cluster_counts)\n",
    "# \n",
    "# # 尝试不同的K值，找到最佳聚类数量\n",
    "# silhouette_scores = []\n",
    "# k_range = range(2, 10)\n",
    "# \n",
    "# for k in k_range:\n",
    "#     kmeans = KMeans(n_clusters=k, random_state=42)\n",
    "#     cluster_labels = kmeans.fit_predict(user_aisle_pca)\n",
    "#     silhouette_avg = silhouette_score(user_aisle_pca, cluster_labels)\n",
    "#     silhouette_scores.append(silhouette_avg)\n",
    "#     print(f\"K={k}时的轮廓系数: {silhouette_avg:.4f}\")\n",
    "# \n",
    "# # 绘制轮廓系数随K值变化的曲线\n",
    "# plt.figure(figsize=(10, 6))\n",
    "# plt.plot(k_range, silhouette_scores, 'o-')\n",
    "# plt.title(\"不同聚类数量的轮廓系数\")\n",
    "# plt.xlabel(\"聚类数量(K)\")\n",
    "# plt.ylabel(\"轮廓系数\")\n",
    "# plt.grid(True)\n",
    "# plt.show()"
   ]
  },
  {
   "cell_type": "code",
   "execution_count": 2,
   "metadata": {},
   "outputs": [
    {
     "name": "stdout",
     "output_type": "stream",
     "text": [
      "订单数据行数: 1000000\n",
      "订单产品数据行数: 1000000\n",
      "产品数据行数: 49688\n",
      "货架数据行数: 134\n"
     ]
    }
   ],
   "source": [
    "import pandas as pd\n",
    "# 限制读取的数据量，每个文件只读取前100万行\n",
    "orders = pd.read_csv('data/instacart/orders.csv', nrows=1000000)\n",
    "order_products = pd.read_csv('data/instacart/order_products__prior.csv', nrows=1000000)\n",
    "products = pd.read_csv('data/instacart/products.csv', nrows=1000000)\n",
    "aisles = pd.read_csv('data/instacart/aisles.csv', nrows=1000000)\n",
    "\n",
    "# 打印读取的数据行数\n",
    "print(f\"订单数据行数: {len(orders)}\")\n",
    "print(f\"订单产品数据行数: {len(order_products)}\")\n",
    "print(f\"产品数据行数: {len(products)}\")\n",
    "print(f\"货架数据行数: {len(aisles)}\")\n"
   ]
  }
 ],
 "metadata": {
  "kernelspec": {
   "display_name": "Python 3",
   "language": "python",
   "name": "python3"
  },
  "language_info": {
   "codemirror_mode": {
    "name": "ipython",
    "version": 3
   },
   "file_extension": ".py",
   "mimetype": "text/x-python",
   "name": "python",
   "nbconvert_exporter": "python",
   "pygments_lexer": "ipython3",
   "version": "3.12.3"
  }
 },
 "nbformat": 4,
 "nbformat_minor": 2
}
